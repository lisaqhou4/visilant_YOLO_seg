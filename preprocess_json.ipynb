{
 "cells": [
  {
   "cell_type": "code",
   "execution_count": 2,
   "metadata": {},
   "outputs": [],
   "source": [
    "import os\n",
    "import json"
   ]
  },
  {
   "cell_type": "code",
   "execution_count": 6,
   "metadata": {},
   "outputs": [],
   "source": [
    "new_category = [{'id':1, 'name':'eye'}]"
   ]
  },
  {
   "cell_type": "code",
   "execution_count": 11,
   "metadata": {},
   "outputs": [
    {
     "name": "stdout",
     "output_type": "stream",
     "text": [
      "\n",
      "fround 205 eye lables\n"
     ]
    }
   ],
   "source": [
    "path = \"/home/lisahou/Desktop/eyeSegmentation_label/train_test_split_/val.json\"\n",
    "json_file = json.load(open(path))\n",
    "new_annot = []\n",
    "count = 0\n",
    "for an in json_file[\"annotations\"]:\n",
    "    if an[\"category_id\"] == 1:\n",
    "        new_annot.append(an)\n",
    "        count = count + 1\n",
    "json_file[\"categories\"] = new_category\n",
    "json_file[\"annotations\"] = new_annot\n",
    "print(\"\\nfround {} eye lables\".format(count))\n",
    "new_path = \"/home/lisahou/Desktop/eyeSegmentation_label/eye_only/val.json\"\n",
    "with open(new_path, \"w\") as f:\n",
    "    json.dump(json_file, f)"
   ]
  },
  {
   "cell_type": "code",
   "execution_count": 16,
   "metadata": {},
   "outputs": [
    {
     "data": {
      "text/plain": [
       "205"
      ]
     },
     "execution_count": 16,
     "metadata": {},
     "output_type": "execute_result"
    }
   ],
   "source": [
    "json_file = json.load(open(new_path))\n",
    "len(json_file[\"annotations\"])"
   ]
  },
  {
   "cell_type": "code",
   "execution_count": null,
   "metadata": {},
   "outputs": [],
   "source": []
  }
 ],
 "metadata": {
  "kernelspec": {
   "display_name": "base",
   "language": "python",
   "name": "python3"
  },
  "language_info": {
   "codemirror_mode": {
    "name": "ipython",
    "version": 3
   },
   "file_extension": ".py",
   "mimetype": "text/x-python",
   "name": "python",
   "nbconvert_exporter": "python",
   "pygments_lexer": "ipython3",
   "version": "3.10.9"
  },
  "orig_nbformat": 4
 },
 "nbformat": 4,
 "nbformat_minor": 2
}
