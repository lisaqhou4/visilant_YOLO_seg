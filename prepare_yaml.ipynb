{
 "cells": [
  {
   "cell_type": "code",
   "execution_count": 21,
   "metadata": {},
   "outputs": [],
   "source": [
    "import os\n",
    "import shutil"
   ]
  },
  {
   "cell_type": "code",
   "execution_count": 22,
   "metadata": {},
   "outputs": [],
   "source": [
    "dataset_path = \"/home/lisahou/Desktop/segmentation/visilant_YOLO_seg/dataset/\"\n",
    "label_path = dataset_path + \"labels/\"\n",
    "image_path = dataset_path + \"images/\"\n",
    "val_path = label_path + \"val\"\n",
    "train_path = label_path + \"train\"\n",
    "test_path = label_path + \"test\"\n",
    "IMAGE_PATH =  \"/home/AROMAImages/\""
   ]
  },
  {
   "cell_type": "code",
   "execution_count": 23,
   "metadata": {},
   "outputs": [],
   "source": [
    "val_img = image_path + \"val/\"\n",
    "train_img = image_path + \"train/\"\n",
    "test_img = image_path + \"test/\"\n",
    "\n",
    "if not os.path.exists(val_img):\n",
    "    os.mkdir(val_img)\n",
    "if not os.path.exists(train_img):\n",
    "    os.mkdir(train_img)\n",
    "if not os.path.exists(test_img):\n",
    "    os.mkdir(test_img)"
   ]
  },
  {
   "cell_type": "code",
   "execution_count": 24,
   "metadata": {},
   "outputs": [],
   "source": [
    "val_files = os.listdir(val_path)\n",
    "for img in val_files:\n",
    "    img = img[:-4]\n",
    "    orig_img = IMAGE_PATH + img + \".jpg\"\n",
    "    new_img = val_img + img   + \".jpg\"\n",
    "    shutil.copy(orig_img, new_img)\n",
    "\n",
    "    "
   ]
  },
  {
   "cell_type": "code",
   "execution_count": 25,
   "metadata": {},
   "outputs": [],
   "source": [
    "train_files = os.listdir(train_path)\n",
    "for img in train_files:\n",
    "    img = img[:-4]\n",
    "    orig_img = IMAGE_PATH + img + \".jpg\"\n",
    "    new_img = train_img + img   + \".jpg\"\n",
    "    shutil.copy(orig_img, new_img)"
   ]
  },
  {
   "cell_type": "code",
   "execution_count": 26,
   "metadata": {},
   "outputs": [],
   "source": [
    "test_files = os.listdir(test_path)\n",
    "for img in test_files:\n",
    "    img = img[:-4]\n",
    "    orig_img = IMAGE_PATH + img + \".jpg\"\n",
    "    new_img = test_img + img   + \".jpg\"\n",
    "    shutil.copy(orig_img, new_img)"
   ]
  },
  {
   "cell_type": "code",
   "execution_count": 27,
   "metadata": {},
   "outputs": [],
   "source": [
    "import ultralytics"
   ]
  },
  {
   "cell_type": "code",
   "execution_count": 28,
   "metadata": {},
   "outputs": [
    {
     "name": "stderr",
     "output_type": "stream",
     "text": [
      "Ultralytics YOLOv8.0.153 🚀 Python-3.10.9 torch-2.0.1+cu117 CUDA:0 (NVIDIA GeForce RTX 2080 Ti, 11009MiB)\n",
      "Setup complete ✅ (32 CPUs, 92.9 GB RAM, 300.9/1823.8 GB disk)\n"
     ]
    }
   ],
   "source": [
    "ultralytics.checks()"
   ]
  },
  {
   "cell_type": "code",
   "execution_count": null,
   "metadata": {},
   "outputs": [],
   "source": []
  }
 ],
 "metadata": {
  "kernelspec": {
   "display_name": "base",
   "language": "python",
   "name": "python3"
  },
  "language_info": {
   "codemirror_mode": {
    "name": "ipython",
    "version": 3
   },
   "file_extension": ".py",
   "mimetype": "text/x-python",
   "name": "python",
   "nbconvert_exporter": "python",
   "pygments_lexer": "ipython3",
   "version": "3.10.9"
  },
  "orig_nbformat": 4
 },
 "nbformat": 4,
 "nbformat_minor": 2
}
